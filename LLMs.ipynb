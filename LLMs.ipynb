{
 "cells": [
  {
   "cell_type": "code",
   "execution_count": 82,
   "id": "362df697-4b2f-44d1-919c-e4a8ea77c28e",
   "metadata": {},
   "outputs": [],
   "source": [
    "import os\n",
    "import sys\n",
    "import torch\n",
    "import transformers\n",
    "import tqdm\n",
    "import random\n",
    "import json\n",
    "import matplotlib.pyplot as plt\n",
    "import scipy\n",
    "from transformers import AutoModel, AutoTokenizer, AutoModelForCausalLM, GPTNeoXTokenizerFast, GPTNeoXForCausalLM"
   ]
  },
  {
   "cell_type": "code",
   "execution_count": 2,
   "id": "cf907454-8f3c-4ff6-b768-332b2a81e247",
   "metadata": {},
   "outputs": [],
   "source": [
    "class Surprisal:\n",
    "    def __init__(self, model_name):\n",
    "        self.tokenizer = AutoTokenizer.from_pretrained(model_name)\n",
    "        self.model = AutoModel.from_pretrained(model_name, output_hidden_states=True)\n",
    "\n",
    "        self.model.eval()\n",
    "\n",
    "    def evaluate(sent):\n",
    "        token_ids = self.tokenizer.encode(sent)\n",
    "        \n",
    "        with torch.no_grad():\n",
    "            output = model(token_ids)\n",
    "        softmax = torch.nn.Softmax(dim=-1) \n",
    "        return softmax(output.logits).squeeze(0)"
   ]
  },
  {
   "cell_type": "code",
   "execution_count": 36,
   "id": "291be684-231c-43d7-b7ab-d7fe169a365a",
   "metadata": {},
   "outputs": [],
   "source": [
    "def generate_stories(language):\n",
    "    stories = []\n",
    "    for a, b, c in os.walk('ud-215/ud-treebanks-v2.15'):\n",
    "        if language in a:\n",
    "            for f in c:\n",
    "                if any(map(lambda i: f.endswith(i), ['dev.txt', 'test.txt', 'train.txt'])):\n",
    "                    stories.extend(open(f'{a}/{f}').read().split(\"\\n\\n\"))\n",
    "    return stories"
   ]
  },
  {
   "cell_type": "code",
   "execution_count": 30,
   "id": "2b838647-2ad1-469f-b40e-5b7c64e47344",
   "metadata": {},
   "outputs": [
    {
     "data": {
      "application/vnd.jupyter.widget-view+json": {
       "model_id": "7054bc0305f14037bbfb536a007a45b3",
       "version_major": 2,
       "version_minor": 0
      },
      "text/plain": [
       "tokenizer_config.json:   0%|          | 0.00/87.0 [00:00<?, ?B/s]"
      ]
     },
     "metadata": {},
     "output_type": "display_data"
    },
    {
     "data": {
      "application/vnd.jupyter.widget-view+json": {
       "model_id": "21cc8e5c1f1f480f9646862ed767a286",
       "version_major": 2,
       "version_minor": 0
      },
      "text/plain": [
       "config.json:   0%|          | 0.00/597 [00:00<?, ?B/s]"
      ]
     },
     "metadata": {},
     "output_type": "display_data"
    },
    {
     "data": {
      "application/vnd.jupyter.widget-view+json": {
       "model_id": "9cabb23c9661480cb197673e9bb0bba7",
       "version_major": 2,
       "version_minor": 0
      },
      "text/plain": [
       "vocab.json:   0%|          | 0.00/1.09M [00:00<?, ?B/s]"
      ]
     },
     "metadata": {},
     "output_type": "display_data"
    },
    {
     "data": {
      "application/vnd.jupyter.widget-view+json": {
       "model_id": "a039e722dafe48968b5184f499efb9a5",
       "version_major": 2,
       "version_minor": 0
      },
      "text/plain": [
       "merges.txt:   0%|          | 0.00/751k [00:00<?, ?B/s]"
      ]
     },
     "metadata": {},
     "output_type": "display_data"
    },
    {
     "data": {
      "application/vnd.jupyter.widget-view+json": {
       "model_id": "708fd2cc37e842a4836eaf51a3f10292",
       "version_major": 2,
       "version_minor": 0
      },
      "text/plain": [
       "added_tokens.json:   0%|          | 0.00/24.0 [00:00<?, ?B/s]"
      ]
     },
     "metadata": {},
     "output_type": "display_data"
    },
    {
     "data": {
      "application/vnd.jupyter.widget-view+json": {
       "model_id": "ad120686df144296a29ee586e44cfdbe",
       "version_major": 2,
       "version_minor": 0
      },
      "text/plain": [
       "special_tokens_map.json:   0%|          | 0.00/120 [00:00<?, ?B/s]"
      ]
     },
     "metadata": {},
     "output_type": "display_data"
    },
    {
     "data": {
      "text/plain": [
       "GPT2TokenizerFast(name_or_path='surajp/gpt2-hindi', vocab_size=50257, model_max_length=512, is_fast=True, padding_side='right', truncation_side='right', special_tokens={'bos_token': '<|endoftext|>', 'eos_token': '<|endoftext|>', 'unk_token': '<|endoftext|>', 'pad_token': '<|endoftext|>'}, clean_up_tokenization_spaces=False, added_tokens_decoder={\n",
       "\t50257: AddedToken(\"<|endoftext|>\", rstrip=False, lstrip=False, single_word=False, normalized=True, special=True),\n",
       "}\n",
       ")"
      ]
     },
     "execution_count": 30,
     "metadata": {},
     "output_type": "execute_result"
    }
   ],
   "source": [
    "AutoTokenizer.from_pretrained(\"surajp/gpt2-hindi\")"
   ]
  },
  {
   "cell_type": "code",
   "execution_count": 112,
   "id": "6c3aa97b-703b-4b21-bb87-f3e61fcec6e3",
   "metadata": {},
   "outputs": [],
   "source": [
    "def calculate_surprisal(model_variant, mode, language):\n",
    "    stories = generate_stories(language)\n",
    "    tokenizer = AutoTokenizer.from_pretrained(model_variant)\n",
    "    model = AutoModelForCausalLM.from_pretrained(model_variant)\n",
    "\n",
    "    model.eval()\n",
    "    softmax = torch.nn.Softmax(dim=-1)\n",
    "    ctx_size = model.config.max_position_embeddings\n",
    "    bos_id = model.config.bos_token_id\n",
    "\n",
    "    batches = []\n",
    "    words = []\n",
    "    for story in tqdm.tqdm(stories):#, position=1):\n",
    "        words.extend(story.split(\" \"))\n",
    "        tokenizer_output = tokenizer(story)\n",
    "        ids = tokenizer_output.input_ids\n",
    "        attn = tokenizer_output.attention_mask\n",
    "\n",
    "        # these tokenizers do not append bos_id by default\n",
    "        if \"gpt\" in model_variant or \"pythia\" in model_variant:\n",
    "            ids = [bos_id] + ids\n",
    "            attn = [1] + attn\n",
    "\n",
    "        start_idx = 0\n",
    "\n",
    "        # sliding windows with 50% overlap\n",
    "        # start_idx is for correctly indexing the \"later 50%\" of sliding windows\n",
    "        while len(ids) > ctx_size:\n",
    "            # for models that explicitly require the first dimension (batch_size)\n",
    "            if \"gpt-neox\" in model_variant or \"pythia\" in model_variant or \"opt\" in model_variant:\n",
    "                batches.append((transformers.BatchEncoding({\"input_ids\": torch.tensor(ids[:ctx_size]).unsqueeze(0),\n",
    "                                                            \"attention_mask\": torch.tensor(attn[:ctx_size]).unsqueeze(0)}),\n",
    "                                torch.tensor(ids[1:ctx_size+1]), start_idx, True))\n",
    "            # for other models\n",
    "            elif \"gpt\" in model_variant:\n",
    "                batches.append((transformers.BatchEncoding({\"input_ids\": torch.tensor(ids[:ctx_size]),\n",
    "                                                            \"attention_mask\": torch.tensor(attn[:ctx_size])}),\n",
    "                                torch.tensor(ids[1:ctx_size+1]), start_idx, True))\n",
    "\n",
    "            ids = ids[int(ctx_size/2):]\n",
    "            attn = attn[int(ctx_size/2):]\n",
    "            start_idx = int(ctx_size/2)\n",
    "\n",
    "        # remaining tokens\n",
    "        if \"gpt-neox\" in model_variant or \"pythia\" in model_variant or \"opt\" in model_variant:\n",
    "            batches.append((transformers.BatchEncoding({\"input_ids\": torch.tensor(ids[:-1]).unsqueeze(0),\n",
    "                                                        \"attention_mask\": torch.tensor(attn[:-1]).unsqueeze(0)}),\n",
    "                           torch.tensor(ids[1:]), start_idx, False))\n",
    "        elif \"gpt\" in model_variant:\n",
    "            batches.append((transformers.BatchEncoding({\"input_ids\": torch.tensor(ids[:-1]),\n",
    "                                                        \"attention_mask\": torch.tensor(attn[:-1])}),\n",
    "                           torch.tensor(ids[1:]), start_idx, False))\n",
    "\n",
    "    print(\"word llmsurp\")\n",
    "    curr_word_surp = []\n",
    "    curr_toks = []\n",
    "    curr_word_ix = 0\n",
    "    is_continued = False\n",
    "    count = 0\n",
    "    total = 0\n",
    "    for batch in tqdm.tqdm(random.sample(batches, min(1000, len(batches)))):#, position=1):\n",
    "        print(\"reading\", batch)\n",
    "        batch_input, output_ids, start_idx, will_continue = batch\n",
    "\n",
    "        with torch.no_grad():\n",
    "            model_output = model(**batch_input)\n",
    "\n",
    "        toks = tokenizer.convert_ids_to_tokens(output_ids)\n",
    "        index = torch.arange(0, output_ids.shape[0])\n",
    "        surp = -1 * torch.log2(softmax(model_output.logits).squeeze(0)[index, output_ids])\n",
    "\n",
    "        if mode == \"token\":\n",
    "            # token-level surprisal\n",
    "            for i in range(start_idx, len(toks)):\n",
    "                cleaned_tok = tokenizer.convert_tokens_to_string([toks[i]]).replace(\" \", \"\")\n",
    "                # print(cleaned_tok, surp[i].item())\n",
    "                total += surp[i].item()\n",
    "                count += 1\n",
    "                # print(count, total)\n",
    "\n",
    "        elif mode == \"word\":\n",
    "            # word-level surprisal\n",
    "            # if the batch starts a new story\n",
    "            if not is_continued:\n",
    "                curr_word_surp = []\n",
    "                curr_toks = []\n",
    "            for i in range(start_idx, len(toks)):\n",
    "                curr_word_surp.append(surp[i].item())\n",
    "                curr_toks += [toks[i]]\n",
    "                curr_toks_str = tokenizer.convert_tokens_to_string(curr_toks)\n",
    "                # summing token-level surprisal\n",
    "                # print(words[curr_word_ix], curr_toks_str.strip())\n",
    "                if words[curr_word_ix] == curr_toks_str.strip():\n",
    "                    # print(curr_toks_str.strip(), sum(curr_word_surp))\n",
    "                    count += 1\n",
    "                    total += sum(curr_word_surp)\n",
    "                    curr_word_surp = []\n",
    "                    curr_toks = []\n",
    "                    curr_word_ix += 1\n",
    "                    # print(count, total)\n",
    "\n",
    "        is_continued = will_continue\n",
    "\n",
    "        del model_output\n",
    "    # print(count, total)\n",
    "    return total / count\n",
    "\n",
    "# calculate_surprisal(\"surajp/gpt2-hindi\", \"token\", \"Hindi\")\n",
    "    "
   ]
  },
  {
   "cell_type": "code",
   "execution_count": 109,
   "id": "57f9f9e3-68b0-44b2-8827-da85ecd897bf",
   "metadata": {},
   "outputs": [
    {
     "data": {
      "text/plain": [
       "{'Arabic': 4.04563453238125,\n",
       " 'Basque': 11.776336400187533,\n",
       " 'Catalan': 9.052308156371192,\n",
       " 'Croatian': 10.880824251416206,\n",
       " 'Danish': 6.005561456922288,\n",
       " 'Dutch': 8.102134119309605,\n",
       " 'English': 5.385080123613887,\n",
       " 'French': 11.2084986283827,\n",
       " 'German': 9.493257881042421,\n",
       " 'Hindi': 5.446858579018244,\n",
       " 'Indonesian': 9.125195615680122,\n",
       " 'Irish': 9.57934247551619,\n",
       " 'Italian': 6.43303417319251,\n",
       " 'Korean': 6.814609626414776,\n",
       " 'Persian': 6.451482465428169,\n",
       " 'Portuguese': 6.349698236746741,\n",
       " 'Russian': 4.862853204450294,\n",
       " 'Slovenian': 9.071584160015092,\n",
       " 'Spanish': 7.127142944834537,\n",
       " 'Turkish': 10.056914489134401,\n",
       " 'Japanese': (0.9233324548842191, 1.825211022554627)}"
      ]
     },
     "execution_count": 109,
     "metadata": {},
     "output_type": "execute_result"
    }
   ],
   "source": [
    "surprisals"
   ]
  },
  {
   "cell_type": "code",
   "execution_count": 113,
   "id": "7a3ccb72-77d6-4b29-a997-626b0644e9ed",
   "metadata": {},
   "outputs": [
    {
     "name": "stderr",
     "output_type": "stream",
     "text": [
      "  0%|                                                    | 0/36 [00:00<?, ?it/s]"
     ]
    },
    {
     "name": "stdout",
     "output_type": "stream",
     "text": [
      "skipping Arabic\n",
      "skipping Basque\n",
      "starting Belarusian\n"
     ]
    },
    {
     "name": "stderr",
     "output_type": "stream",
     "text": [
      "\n",
      "  0%|                                                  | 0/8392 [00:00<?, ?it/s]\u001b[A\n",
      " 11%|████                                  | 898/8392 [00:00<00:00, 8685.22it/s]\u001b[A\n",
      " 21%|███████▊                             | 1767/8392 [00:00<00:00, 7920.68it/s]\u001b[A\n",
      " 31%|███████████▎                         | 2571/8392 [00:00<00:00, 7970.01it/s]\u001b[A\n",
      " 40%|██████████████▊                      | 3371/8392 [00:00<00:00, 7657.25it/s]\u001b[A\n",
      " 56%|████████████████████▋                | 4687/8392 [00:00<00:00, 9543.44it/s]\u001b[A\n",
      " 77%|███████████████████████████▌        | 6424/8392 [00:00<00:00, 12115.09it/s]\u001b[A\n",
      "100%|████████████████████████████████████| 8392/8392 [00:00<00:00, 10659.11it/s]\u001b[A\n"
     ]
    },
    {
     "name": "stdout",
     "output_type": "stream",
     "text": [
      "word llmsurp\n"
     ]
    },
    {
     "name": "stderr",
     "output_type": "stream",
     "text": [
      "\n",
      "0it [00:00, ?it/s]\u001b[A\n",
      "  6%|██▍                                         | 2/36 [00:01<00:21,  1.61it/s]\n"
     ]
    },
    {
     "ename": "ZeroDivisionError",
     "evalue": "division by zero",
     "output_type": "error",
     "traceback": [
      "\u001b[0;31m---------------------------------------------------------------------------\u001b[0m",
      "\u001b[0;31mZeroDivisionError\u001b[0m                         Traceback (most recent call last)",
      "Cell \u001b[0;32mIn[113], line 10\u001b[0m\n\u001b[1;32m      7\u001b[0m \u001b[38;5;28mprint\u001b[39m(\u001b[38;5;124m\"\u001b[39m\u001b[38;5;124mstarting\u001b[39m\u001b[38;5;124m\"\u001b[39m, lang)\n\u001b[1;32m      8\u001b[0m \u001b[38;5;66;03m# try:\u001b[39;00m\n\u001b[1;32m      9\u001b[0m \u001b[38;5;66;03m# word_surprisal = calculate_surprisal(model, \"word\", lang)\u001b[39;00m\n\u001b[0;32m---> 10\u001b[0m token_surprisal \u001b[38;5;241m=\u001b[39m \u001b[43mcalculate_surprisal\u001b[49m\u001b[43m(\u001b[49m\u001b[43mmodel\u001b[49m\u001b[43m,\u001b[49m\u001b[43m \u001b[49m\u001b[38;5;124;43m\"\u001b[39;49m\u001b[38;5;124;43mtoken\u001b[39;49m\u001b[38;5;124;43m\"\u001b[39;49m\u001b[43m,\u001b[49m\u001b[43m \u001b[49m\u001b[43mlang\u001b[49m\u001b[43m)\u001b[49m\n\u001b[1;32m     11\u001b[0m surprisals[lang] \u001b[38;5;241m=\u001b[39m (word_surprisal, token_surprisal)\n\u001b[1;32m     13\u001b[0m \u001b[38;5;28;01mwith\u001b[39;00m \u001b[38;5;28mopen\u001b[39m(\u001b[38;5;124mf\u001b[39m\u001b[38;5;124m\"\u001b[39m\u001b[38;5;124msurprisals-3-\u001b[39m\u001b[38;5;132;01m{\u001b[39;00mlang\u001b[38;5;132;01m}\u001b[39;00m\u001b[38;5;124m.txt\u001b[39m\u001b[38;5;124m\"\u001b[39m, \u001b[38;5;124m\"\u001b[39m\u001b[38;5;124mw\u001b[39m\u001b[38;5;124m\"\u001b[39m) \u001b[38;5;28;01mas\u001b[39;00m f:\n\u001b[1;32m     14\u001b[0m     \u001b[38;5;66;03m# f.write(f\"Word: {word_surprisal}\\n\")\u001b[39;00m\n",
      "Cell \u001b[0;32mIn[112], line 106\u001b[0m, in \u001b[0;36mcalculate_surprisal\u001b[0;34m(model_variant, mode, language)\u001b[0m\n\u001b[1;32m    104\u001b[0m     \u001b[38;5;28;01mdel\u001b[39;00m model_output\n\u001b[1;32m    105\u001b[0m \u001b[38;5;66;03m# print(count, total)\u001b[39;00m\n\u001b[0;32m--> 106\u001b[0m \u001b[38;5;28;01mreturn\u001b[39;00m \u001b[43mtotal\u001b[49m\u001b[43m \u001b[49m\u001b[38;5;241;43m/\u001b[39;49m\u001b[43m \u001b[49m\u001b[43mcount\u001b[49m\n",
      "\u001b[0;31mZeroDivisionError\u001b[0m: division by zero"
     ]
    }
   ],
   "source": [
    "models = {i.split(\":\")[0]: i.split(\":\")[1] for i in open(\"models.txt\").read().split(\"\\n\")[:-1]}\n",
    "\n",
    "for lang, model in tqdm.tqdm(list(models.items())):\n",
    "    if lang in surprisals:\n",
    "        print(\"skipping\", lang)\n",
    "        continue\n",
    "    print(\"starting\", lang)\n",
    "    # try:\n",
    "    # word_surprisal = calculate_surprisal(model, \"word\", lang)\n",
    "    token_surprisal = calculate_surprisal(model, \"token\", lang)\n",
    "    surprisals[lang] = (word_surprisal, token_surprisal)\n",
    "\n",
    "    with open(f\"surprisals-3-{lang}.txt\", \"w\") as f:\n",
    "        # f.write(f\"Word: {word_surprisal}\\n\")\n",
    "        f.write(f\"Token: {token_surprisal}\\n\")\n",
    "\n",
    "    print(\"finished\", lang)\n",
    "    # except Exception as e:\n",
    "    #     print(\"ERROR ON LANG\", lang)\n",
    "    #     print(e)"
   ]
  },
  {
   "cell_type": "code",
   "execution_count": 70,
   "id": "b4f7d111-a02f-47db-8b33-b80c21b4c8c8",
   "metadata": {},
   "outputs": [],
   "source": [
    "flex_data = json.load(open(\"flexibility_ any.json\", \"r\"))"
   ]
  },
  {
   "cell_type": "code",
   "execution_count": 71,
   "id": "3bf5a9d3-90fe-429e-ba69-e7d59e1c16fe",
   "metadata": {},
   "outputs": [
    {
     "data": {
      "text/plain": [
       "[{'label': ['Afrikaans/Indo-European-Germanic'],\n",
       "  'data': [{'x': 0, 'y': 25.3, 'z': 0, 'r': 5, 'label': 'Afrikaans'}]},\n",
       " {'label': ['Akkadian/Semitic'],\n",
       "  'data': [{'x': 0, 'y': 5.05, 'z': 0, 'r': 5, 'label': 'Akkadian'}]},\n",
       " {'label': ['Gheg/Indo-European'],\n",
       "  'data': [{'x': 0, 'y': 20.67, 'z': 0, 'r': 5, 'label': 'Gheg'}]},\n",
       " {'label': ['Amharic/Afroasiatic'],\n",
       "  'data': [{'x': 0, 'y': 21.45, 'z': 0, 'r': 5, 'label': 'Amharic'}]},\n",
       " {'label': ['Akuntsu/Tupian'],\n",
       "  'data': [{'x': 0, 'y': 30.54, 'z': 0, 'r': 5, 'label': 'Akuntsu'}]},\n",
       " {'label': ['Arabic/Semitic'],\n",
       "  'data': [{'x': 0, 'y': 9.03, 'z': 0, 'r': 5, 'label': 'Arabic'}]},\n",
       " {'label': ['Karo/Tupian'],\n",
       "  'data': [{'x': 0, 'y': 16.65, 'z': 0, 'r': 5, 'label': 'Karo'}]},\n",
       " {'label': ['Belarusian/Indo-European-Baltoslavic'],\n",
       "  'data': [{'x': 0, 'y': 25.78, 'z': 0, 'r': 5, 'label': 'Belarusian'}]},\n",
       " {'label': ['Beja/Afroasiatic'],\n",
       "  'data': [{'x': 0, 'y': 31.12, 'z': 0, 'r': 5, 'label': 'Beja'}]},\n",
       " {'label': ['Bulgarian/Indo-European-Baltoslavic'],\n",
       "  'data': [{'x': 0, 'y': 18.86, 'z': 0, 'r': 5, 'label': 'Bulgarian'}]},\n",
       " {'label': ['Bhojpuri/Indo-European'],\n",
       "  'data': [{'x': 0, 'y': 5.13, 'z': 0, 'r': 5, 'label': 'Bhojpuri'}]},\n",
       " {'label': ['Bambara/Niger-Congo'],\n",
       "  'data': [{'x': 0, 'y': 5.23, 'z': 0, 'r': 5, 'label': 'Bambara'}]},\n",
       " {'label': ['Breton/Indo-European'],\n",
       "  'data': [{'x': 0, 'y': 26.97, 'z': 0, 'r': 5, 'label': 'Breton'}]},\n",
       " {'label': ['Buryat/Agglutinating'],\n",
       "  'data': [{'x': 0, 'y': 8.05, 'z': 0, 'r': 5, 'label': 'Buryat'}]},\n",
       " {'label': ['Catalan/Indo-European-Romance'],\n",
       "  'data': [{'x': 0, 'y': 13.72, 'z': 0, 'r': 5, 'label': 'Catalan'}]},\n",
       " {'label': ['Cebuano/Austronesian'],\n",
       "  'data': [{'x': 0, 'y': 22.32, 'z': 0, 'r': 5, 'label': 'Cebuano'}]},\n",
       " {'label': ['Chukot/Agglutinating'],\n",
       "  'data': [{'x': 0, 'y': 32.95, 'z': 0, 'r': 5, 'label': 'Chukot'}]},\n",
       " {'label': ['Coptic/Afroasiatic'],\n",
       "  'data': [{'x': 0, 'y': 8.76, 'z': 0, 'r': 5, 'label': 'Coptic'}]},\n",
       " {'label': ['Czech/Indo-European-Baltoslavic'],\n",
       "  'data': [{'x': 0, 'y': 30.19, 'z': 0, 'r': 5, 'label': 'Czech'}]},\n",
       " {'label': ['OldChurchSlavonic/Indo-European-Baltoslavic'],\n",
       "  'data': [{'x': 0,\n",
       "    'y': 42.61,\n",
       "    'z': 0,\n",
       "    'r': 5,\n",
       "    'label': 'OldChurchSlavonic'}]},\n",
       " {'label': ['Welsh/Indo-European'],\n",
       "  'data': [{'x': 0, 'y': 11.65, 'z': 0, 'r': 5, 'label': 'Welsh'}]},\n",
       " {'label': ['Danish/Indo-European-Germanic'],\n",
       "  'data': [{'x': 0, 'y': 26.22, 'z': 0, 'r': 5, 'label': 'Danish'}]},\n",
       " {'label': ['German/Indo-European-Germanic'],\n",
       "  'data': [{'x': 0, 'y': 32.94, 'z': 0, 'r': 5, 'label': 'German'}]},\n",
       " {'label': ['Greek/Indo-European'],\n",
       "  'data': [{'x': 0, 'y': 16.4, 'z': 0, 'r': 5, 'label': 'Greek'}]},\n",
       " {'label': ['Emerillon/Tupian'],\n",
       "  'data': [{'x': 0, 'y': 52.37, 'z': 0, 'r': 5, 'label': 'Emerillon'}]},\n",
       " {'label': ['English/Indo-European-Germanic'],\n",
       "  'data': [{'x': 0, 'y': 13.16, 'z': 0, 'r': 5, 'label': 'English'}]},\n",
       " {'label': ['Spanish/Indo-European-Romance'],\n",
       "  'data': [{'x': 0, 'y': 16.61, 'z': 0, 'r': 5, 'label': 'Spanish'}]},\n",
       " {'label': ['Yupik/Eskimo–Aleut'],\n",
       "  'data': [{'x': 0, 'y': 35.87, 'z': 0, 'r': 5, 'label': 'Yupik'}]},\n",
       " {'label': ['Estonian/Agglutinating'],\n",
       "  'data': [{'x': 0, 'y': 44.76, 'z': 0, 'r': 5, 'label': 'Estonian'}]},\n",
       " {'label': ['Basque/isolate'],\n",
       "  'data': [{'x': 0, 'y': 35.78, 'z': 0, 'r': 5, 'label': 'Basque'}]},\n",
       " {'label': ['Persian/Indo-European'],\n",
       "  'data': [{'x': 0, 'y': 16.06, 'z': 0, 'r': 5, 'label': 'Persian'}]},\n",
       " {'label': ['Finnish/Agglutinating'],\n",
       "  'data': [{'x': 0, 'y': 37.02, 'z': 0, 'r': 5, 'label': 'Finnish'}]},\n",
       " {'label': ['Faroese/Indo-European-Germanic'],\n",
       "  'data': [{'x': 0, 'y': 25.07, 'z': 0, 'r': 5, 'label': 'Faroese'}]},\n",
       " {'label': ['French/Indo-European-Romance'],\n",
       "  'data': [{'x': 0, 'y': 14.09, 'z': 0, 'r': 5, 'label': 'French'}]},\n",
       " {'label': ['OldFrench/Indo-European-Romance'],\n",
       "  'data': [{'x': 0, 'y': 31.44, 'z': 0, 'r': 5, 'label': 'OldFrench'}]},\n",
       " {'label': ['Irish/Indo-European'],\n",
       "  'data': [{'x': 0, 'y': 9.63, 'z': 0, 'r': 5, 'label': 'Irish'}]},\n",
       " {'label': ['Gaelic/Indo-European'],\n",
       "  'data': [{'x': 0, 'y': 8.5, 'z': 0, 'r': 5, 'label': 'Gaelic'}]},\n",
       " {'label': ['Galician/Indo-European-Romance'],\n",
       "  'data': [{'x': 0, 'y': 14.84, 'z': 0, 'r': 5, 'label': 'Galician'}]},\n",
       " {'label': ['Gothic/Indo-European-Germanic'],\n",
       "  'data': [{'x': 0, 'y': 41.87, 'z': 0, 'r': 5, 'label': 'Gothic'}]},\n",
       " {'label': ['AncientGreek/Indo-European'],\n",
       "  'data': [{'x': 0, 'y': 52.57, 'z': 0, 'r': 5, 'label': 'AncientGreek'}]},\n",
       " {'label': ['SwissGerman/Indo-European-Germanic'],\n",
       "  'data': [{'x': 0, 'y': 27.1, 'z': 0, 'r': 5, 'label': 'SwissGerman'}]},\n",
       " {'label': ['MbyáGuaraní/Tupian'],\n",
       "  'data': [{'x': 0, 'y': 28.01, 'z': 0, 'r': 5, 'label': 'MbyáGuaraní'}]},\n",
       " {'label': ['Manx/Indo-European'],\n",
       "  'data': [{'x': 0, 'y': 3.32, 'z': 0, 'r': 5, 'label': 'Manx'}]},\n",
       " {'label': ['AncientHebrew/Semitic'],\n",
       "  'data': [{'x': 0, 'y': 13.41, 'z': 0, 'r': 5, 'label': 'AncientHebrew'}]},\n",
       " {'label': ['Hebrew/Semitic'],\n",
       "  'data': [{'x': 0, 'y': 18.41, 'z': 0, 'r': 5, 'label': 'Hebrew'}]},\n",
       " {'label': ['Hindi/Indo-European'],\n",
       "  'data': [{'x': 0, 'y': 1.59, 'z': 0, 'r': 5, 'label': 'Hindi'}]},\n",
       " {'label': ['Hittite/Indo-European'],\n",
       "  'data': [{'x': 0, 'y': 14.5, 'z': 0, 'r': 5, 'label': 'Hittite'}]},\n",
       " {'label': ['Croatian/Indo-European-Baltoslavic'],\n",
       "  'data': [{'x': 0, 'y': 25.8, 'z': 0, 'r': 5, 'label': 'Croatian'}]},\n",
       " {'label': ['UpperSorbian/Indo-European-Baltoslavic'],\n",
       "  'data': [{'x': 0, 'y': 28.01, 'z': 0, 'r': 5, 'label': 'UpperSorbian'}]},\n",
       " {'label': ['Hungarian/Agglutinating'],\n",
       "  'data': [{'x': 0, 'y': 24.35, 'z': 0, 'r': 5, 'label': 'Hungarian'}]},\n",
       " {'label': ['Armenian/Indo-European'],\n",
       "  'data': [{'x': 0, 'y': 33.02, 'z': 0, 'r': 5, 'label': 'Armenian'}]},\n",
       " {'label': ['WesternArmenian/Indo-European'],\n",
       "  'data': [{'x': 0, 'y': 37.05, 'z': 0, 'r': 5, 'label': 'WesternArmenian'}]},\n",
       " {'label': ['Indonesian/Sino-Austronesian'],\n",
       "  'data': [{'x': 0, 'y': 18.69, 'z': 0, 'r': 5, 'label': 'Indonesian'}]},\n",
       " {'label': ['Icelandic/Indo-European-Germanic'],\n",
       "  'data': [{'x': 0, 'y': 35.17, 'z': 0, 'r': 5, 'label': 'Icelandic'}]},\n",
       " {'label': ['Italian/Indo-European-Romance'],\n",
       "  'data': [{'x': 0, 'y': 18.1, 'z': 0, 'r': 5, 'label': 'Italian'}]},\n",
       " {'label': ['Japanese/Agglutinating'],\n",
       "  'data': [{'x': 0, 'y': 0.45, 'z': 0, 'r': 5, 'label': 'Japanese'}]},\n",
       " {'label': ['Javanese/Sino-Austronesian'],\n",
       "  'data': [{'x': 0, 'y': 15.63, 'z': 0, 'r': 5, 'label': 'Javanese'}]},\n",
       " {'label': ['Kazakh/Agglutinating'],\n",
       "  'data': [{'x': 0, 'y': 2.31, 'z': 0, 'r': 5, 'label': 'Kazakh'}]},\n",
       " {'label': ['Kurmanji/Indo-European'],\n",
       "  'data': [{'x': 0, 'y': 21.98, 'z': 0, 'r': 5, 'label': 'Kurmanji'}]},\n",
       " {'label': ['Korean/Agglutinating'],\n",
       "  'data': [{'x': 0, 'y': 5.43, 'z': 0, 'r': 5, 'label': 'Korean'}]},\n",
       " {'label': ['Komi-Permyak/Agglutinating'],\n",
       "  'data': [{'x': 0, 'y': 39.43, 'z': 0, 'r': 5, 'label': 'Komi-Permyak'}]},\n",
       " {'label': ['Komi/Agglutinating'],\n",
       "  'data': [{'x': 0, 'y': 44.89, 'z': 0, 'r': 5, 'label': 'Komi'}]},\n",
       " {'label': ['Karelian/Agglutinating'],\n",
       "  'data': [{'x': 0, 'y': 32.42, 'z': 0, 'r': 5, 'label': 'Karelian'}]},\n",
       " {'label': ['Latin/Indo-European-Romance'],\n",
       "  'data': [{'x': 0, 'y': 48.09, 'z': 0, 'r': 5, 'label': 'Latin'}]},\n",
       " {'label': ['Ligurian/Indo-European'],\n",
       "  'data': [{'x': 0, 'y': 16.83, 'z': 0, 'r': 5, 'label': 'Ligurian'}]},\n",
       " {'label': ['Lithuanian/Indo-European-Baltoslavic'],\n",
       "  'data': [{'x': 0, 'y': 31.99, 'z': 0, 'r': 5, 'label': 'Lithuanian'}]},\n",
       " {'label': ['Latvian/Indo-European-Baltoslavic'],\n",
       "  'data': [{'x': 0, 'y': 34.84, 'z': 0, 'r': 5, 'label': 'Latvian'}]},\n",
       " {'label': ['ClassicalChinese/Sino-Austronesian'],\n",
       "  'data': [{'x': 0, 'y': 4.4, 'z': 0, 'r': 5, 'label': 'ClassicalChinese'}]},\n",
       " {'label': ['Moksha/Agglutinating'],\n",
       "  'data': [{'x': 0, 'y': 41.87, 'z': 0, 'r': 5, 'label': 'Moksha'}]},\n",
       " {'label': ['Marathi/Indo-European'],\n",
       "  'data': [{'x': 0, 'y': 5.6, 'z': 0, 'r': 5, 'label': 'Marathi'}]},\n",
       " {'label': ['Maltese/Semitic'],\n",
       "  'data': [{'x': 0, 'y': 17.87, 'z': 0, 'r': 5, 'label': 'Maltese'}]},\n",
       " {'label': ['Mundurukú/Tupian'],\n",
       "  'data': [{'x': 0, 'y': 27.57, 'z': 0, 'r': 5, 'label': 'Mundurukú'}]},\n",
       " {'label': ['Erzya/Agglutinating'],\n",
       "  'data': [{'x': 0, 'y': 47.93, 'z': 0, 'r': 5, 'label': 'Erzya'}]},\n",
       " {'label': ['LowGerman/Indo-European-Germanic'],\n",
       "  'data': [{'x': 0, 'y': 42.77, 'z': 0, 'r': 5, 'label': 'LowGerman'}]},\n",
       " {'label': ['Nahuatl/Nahuan'],\n",
       "  'data': [{'x': 0, 'y': 22.32, 'z': 0, 'r': 5, 'label': 'Nahuatl'}]},\n",
       " {'label': ['Dutch/Indo-European-Germanic'],\n",
       "  'data': [{'x': 0, 'y': 31.73, 'z': 0, 'r': 5, 'label': 'Dutch'}]},\n",
       " {'label': ['Norwegian/Indo-European-Germanic'],\n",
       "  'data': [{'x': 0, 'y': 21.44, 'z': 0, 'r': 5, 'label': 'Norwegian'}]},\n",
       " {'label': ['Livvi/Agglutinating'],\n",
       "  'data': [{'x': 0, 'y': 39.48, 'z': 0, 'r': 5, 'label': 'Livvi'}]},\n",
       " {'label': ['OldEastSlavic/Indo-European-Baltoslavic'],\n",
       "  'data': [{'x': 0, 'y': 51.73, 'z': 0, 'r': 5, 'label': 'OldEastSlavic'}]},\n",
       " {'label': ['Naija/Indo-European-Germanic'],\n",
       "  'data': [{'x': 0, 'y': 6.12, 'z': 0, 'r': 5, 'label': 'Naija'}]},\n",
       " {'label': ['Polish/Indo-European-Baltoslavic'],\n",
       "  'data': [{'x': 0, 'y': 34.73, 'z': 0, 'r': 5, 'label': 'Polish'}]},\n",
       " {'label': ['Portuguese/Indo-European-Romance'],\n",
       "  'data': [{'x': 0, 'y': 14.15, 'z': 0, 'r': 5, 'label': 'Portuguese'}]},\n",
       " {'label': ['FrisianDutch/Indo-European'],\n",
       "  'data': [{'x': 0, 'y': 39.37, 'z': 0, 'r': 5, 'label': 'FrisianDutch'}]},\n",
       " {'label': ['HindiEnglish/Indo-European'],\n",
       "  'data': [{'x': 0, 'y': 41.05, 'z': 0, 'r': 5, 'label': 'HindiEnglish'}]},\n",
       " {'label': ['Pomak/Indo-European-Baltoslavic'],\n",
       "  'data': [{'x': 0, 'y': 34.49, 'z': 0, 'r': 5, 'label': 'Pomak'}]},\n",
       " {'label': ['TurkishGerman/Agglutinating'],\n",
       "  'data': [{'x': 0, 'y': 49.27, 'z': 0, 'r': 5, 'label': 'TurkishGerman'}]},\n",
       " {'label': [\"K'iche'/Mayan\"],\n",
       "  'data': [{'x': 0, 'y': 26.78, 'z': 0, 'r': 5, 'label': \"K'iche'\"}]},\n",
       " {'label': ['Romanian/Indo-European-Romance'],\n",
       "  'data': [{'x': 0, 'y': 26.36, 'z': 0, 'r': 5, 'label': 'Romanian'}]},\n",
       " {'label': ['Russian/Indo-European-Baltoslavic'],\n",
       "  'data': [{'x': 0, 'y': 28.79, 'z': 0, 'r': 5, 'label': 'Russian'}]},\n",
       " {'label': ['Sanskrit/Indo-European'],\n",
       "  'data': [{'x': 0, 'y': 37.61, 'z': 0, 'r': 5, 'label': 'Sanskrit'}]},\n",
       " {'label': ['Yakut/Agglutinating'],\n",
       "  'data': [{'x': 0, 'y': 8.16, 'z': 0, 'r': 5, 'label': 'Yakut'}]},\n",
       " {'label': ['Zaar/Afroasiatic'],\n",
       "  'data': [{'x': 0, 'y': 9.47, 'z': 0, 'r': 5, 'label': 'Zaar'}]},\n",
       " {'label': ['Xibe/Tungusic'],\n",
       "  'data': [{'x': 0, 'y': 2.17, 'z': 0, 'r': 5, 'label': 'Xibe'}]},\n",
       " {'label': ['Slovak/Indo-European-Baltoslavic'],\n",
       "  'data': [{'x': 0, 'y': 36.9, 'z': 0, 'r': 5, 'label': 'Slovak'}]},\n",
       " {'label': ['Slovenian/Indo-European-Baltoslavic'],\n",
       "  'data': [{'x': 0, 'y': 27.58, 'z': 0, 'r': 5, 'label': 'Slovenian'}]},\n",
       " {'label': ['NorthSami/Agglutinating'],\n",
       "  'data': [{'x': 0, 'y': 36.13, 'z': 0, 'r': 5, 'label': 'NorthSami'}]},\n",
       " {'label': ['SkoltSami/Agglutinating'],\n",
       "  'data': [{'x': 0, 'y': 34.55, 'z': 0, 'r': 5, 'label': 'SkoltSami'}]},\n",
       " {'label': ['Albanian/Indo-European'],\n",
       "  'data': [{'x': 0, 'y': 10.01, 'z': 0, 'r': 5, 'label': 'Albanian'}]},\n",
       " {'label': ['Serbian/Indo-European-Baltoslavic'],\n",
       "  'data': [{'x': 0, 'y': 22.26, 'z': 0, 'r': 5, 'label': 'Serbian'}]},\n",
       " {'label': ['Swedish/Indo-European-Germanic'],\n",
       "  'data': [{'x': 0, 'y': 20.94, 'z': 0, 'r': 5, 'label': 'Swedish'}]},\n",
       " {'label': ['SwedishSign/Indo-European-Germanic'],\n",
       "  'data': [{'x': 0, 'y': 38.31, 'z': 0, 'r': 5, 'label': 'SwedishSign'}]},\n",
       " {'label': ['Tamil/Dravidian'],\n",
       "  'data': [{'x': 0, 'y': 4.23, 'z': 0, 'r': 5, 'label': 'Tamil'}]},\n",
       " {'label': ['Telugu/Dravidian'],\n",
       "  'data': [{'x': 0, 'y': 2.65, 'z': 0, 'r': 5, 'label': 'Telugu'}]},\n",
       " {'label': ['Thai/Sino-Austronesian'],\n",
       "  'data': [{'x': 0, 'y': 13.86, 'z': 0, 'r': 5, 'label': 'Thai'}]},\n",
       " {'label': ['Tagalog/Sino-Austronesian'],\n",
       "  'data': [{'x': 0, 'y': 15.22, 'z': 0, 'r': 5, 'label': 'Tagalog'}]},\n",
       " {'label': ['Tupinambá/Tupian'],\n",
       "  'data': [{'x': 0, 'y': 56.2, 'z': 0, 'r': 5, 'label': 'Tupinambá'}]},\n",
       " {'label': ['Turkish/Agglutinating'],\n",
       "  'data': [{'x': 0, 'y': 3.61, 'z': 0, 'r': 5, 'label': 'Turkish'}]},\n",
       " {'label': ['Tatar/Agglutinating'],\n",
       "  'data': [{'x': 0, 'y': 4.35, 'z': 0, 'r': 5, 'label': 'Tatar'}]},\n",
       " {'label': ['Uyghur/Agglutinating'],\n",
       "  'data': [{'x': 0, 'y': 3.91, 'z': 0, 'r': 5, 'label': 'Uyghur'}]},\n",
       " {'label': ['Ukrainian/Indo-European-Baltoslavic'],\n",
       "  'data': [{'x': 0, 'y': 25.84, 'z': 0, 'r': 5, 'label': 'Ukrainian'}]},\n",
       " {'label': ['Urdu/Indo-European'],\n",
       "  'data': [{'x': 0, 'y': 4.23, 'z': 0, 'r': 5, 'label': 'Urdu'}]},\n",
       " {'label': ['Vietnamese/Sino-Austronesian'],\n",
       "  'data': [{'x': 0, 'y': 14.09, 'z': 0, 'r': 5, 'label': 'Vietnamese'}]},\n",
       " {'label': ['Wolof/Niger-Congo'],\n",
       "  'data': [{'x': 0, 'y': 30.09, 'z': 0, 'r': 5, 'label': 'Wolof'}]},\n",
       " {'label': ['Kangri/Indo-European'],\n",
       "  'data': [{'x': 0, 'y': 5.15, 'z': 0, 'r': 5, 'label': 'Kangri'}]},\n",
       " {'label': ['Yoruba/Niger-Congo'],\n",
       "  'data': [{'x': 0, 'y': 20.65, 'z': 0, 'r': 5, 'label': 'Yoruba'}]},\n",
       " {'label': ['Nhengatu/Tupian'],\n",
       "  'data': [{'x': 0, 'y': 30.14, 'z': 0, 'r': 5, 'label': 'Nhengatu'}]},\n",
       " {'label': ['Cantonese/Sino-Austronesian'],\n",
       "  'data': [{'x': 0, 'y': 15.55, 'z': 0, 'r': 5, 'label': 'Cantonese'}]},\n",
       " {'label': ['Chinese/Sino-Austronesian'],\n",
       "  'data': [{'x': 0, 'y': 11.77, 'z': 0, 'r': 5, 'label': 'Chinese'}]},\n",
       " {'label': ['Guajajára/Tupian'],\n",
       "  'data': [{'x': 0, 'y': 44.22, 'z': 0, 'r': 5, 'label': 'Guajajára'}]}]"
      ]
     },
     "execution_count": 71,
     "metadata": {},
     "output_type": "execute_result"
    }
   ],
   "source": [
    "flex_data"
   ]
  },
  {
   "cell_type": "code",
   "execution_count": 72,
   "id": "d193c4de-d024-40fd-9470-4ad7b546d5b5",
   "metadata": {},
   "outputs": [],
   "source": [
    "flexibility = {i['data'][0]['label']: i['data'][0]['y'] for i in flex_data}"
   ]
  },
  {
   "cell_type": "code",
   "execution_count": 85,
   "id": "df856bde-2912-4b52-9124-36e82a970516",
   "metadata": {},
   "outputs": [
    {
     "data": {
      "text/plain": [
       "{'Afrikaans': 'Indo-European-Germanic',\n",
       " 'Akkadian': 'Semitic',\n",
       " 'Gheg': 'Indo-European',\n",
       " 'Amharic': 'Afroasiatic',\n",
       " 'Akuntsu': 'Tupian',\n",
       " 'Arabic': 'Semitic',\n",
       " 'Karo': 'Tupian',\n",
       " 'Belarusian': 'Indo-European-Baltoslavic',\n",
       " 'Beja': 'Afroasiatic',\n",
       " 'Bulgarian': 'Indo-European-Baltoslavic',\n",
       " 'Bhojpuri': 'Indo-European',\n",
       " 'Bambara': 'Niger-Congo',\n",
       " 'Breton': 'Indo-European',\n",
       " 'Buryat': 'Agglutinating',\n",
       " 'Catalan': 'Indo-European-Romance',\n",
       " 'Cebuano': 'Austronesian',\n",
       " 'Chukot': 'Agglutinating',\n",
       " 'Coptic': 'Afroasiatic',\n",
       " 'Czech': 'Indo-European-Baltoslavic',\n",
       " 'OldChurchSlavonic': 'Indo-European-Baltoslavic',\n",
       " 'Welsh': 'Indo-European',\n",
       " 'Danish': 'Indo-European-Germanic',\n",
       " 'German': 'Indo-European-Germanic',\n",
       " 'Greek': 'Indo-European',\n",
       " 'Emerillon': 'Tupian',\n",
       " 'English': 'Indo-European-Germanic',\n",
       " 'Spanish': 'Indo-European-Romance',\n",
       " 'Yupik': 'Eskimo–Aleut',\n",
       " 'Estonian': 'Agglutinating',\n",
       " 'Basque': 'isolate',\n",
       " 'Persian': 'Indo-European',\n",
       " 'Finnish': 'Agglutinating',\n",
       " 'Faroese': 'Indo-European-Germanic',\n",
       " 'French': 'Indo-European-Romance',\n",
       " 'OldFrench': 'Indo-European-Romance',\n",
       " 'Irish': 'Indo-European',\n",
       " 'Gaelic': 'Indo-European',\n",
       " 'Galician': 'Indo-European-Romance',\n",
       " 'Gothic': 'Indo-European-Germanic',\n",
       " 'AncientGreek': 'Indo-European',\n",
       " 'SwissGerman': 'Indo-European-Germanic',\n",
       " 'MbyáGuaraní': 'Tupian',\n",
       " 'Manx': 'Indo-European',\n",
       " 'AncientHebrew': 'Semitic',\n",
       " 'Hebrew': 'Semitic',\n",
       " 'Hindi': 'Indo-European',\n",
       " 'Hittite': 'Indo-European',\n",
       " 'Croatian': 'Indo-European-Baltoslavic',\n",
       " 'UpperSorbian': 'Indo-European-Baltoslavic',\n",
       " 'Hungarian': 'Agglutinating',\n",
       " 'Armenian': 'Indo-European',\n",
       " 'WesternArmenian': 'Indo-European',\n",
       " 'Indonesian': 'Sino-Austronesian',\n",
       " 'Icelandic': 'Indo-European-Germanic',\n",
       " 'Italian': 'Indo-European-Romance',\n",
       " 'Japanese': 'Agglutinating',\n",
       " 'Javanese': 'Sino-Austronesian',\n",
       " 'Kazakh': 'Agglutinating',\n",
       " 'Kurmanji': 'Indo-European',\n",
       " 'Korean': 'Agglutinating',\n",
       " 'Komi-Permyak': 'Agglutinating',\n",
       " 'Komi': 'Agglutinating',\n",
       " 'Karelian': 'Agglutinating',\n",
       " 'Latin': 'Indo-European-Romance',\n",
       " 'Ligurian': 'Indo-European',\n",
       " 'Lithuanian': 'Indo-European-Baltoslavic',\n",
       " 'Latvian': 'Indo-European-Baltoslavic',\n",
       " 'ClassicalChinese': 'Sino-Austronesian',\n",
       " 'Moksha': 'Agglutinating',\n",
       " 'Marathi': 'Indo-European',\n",
       " 'Maltese': 'Semitic',\n",
       " 'Mundurukú': 'Tupian',\n",
       " 'Erzya': 'Agglutinating',\n",
       " 'LowGerman': 'Indo-European-Germanic',\n",
       " 'Nahuatl': 'Nahuan',\n",
       " 'Dutch': 'Indo-European-Germanic',\n",
       " 'Norwegian': 'Indo-European-Germanic',\n",
       " 'Livvi': 'Agglutinating',\n",
       " 'OldEastSlavic': 'Indo-European-Baltoslavic',\n",
       " 'Naija': 'Indo-European-Germanic',\n",
       " 'Polish': 'Indo-European-Baltoslavic',\n",
       " 'Portuguese': 'Indo-European-Romance',\n",
       " 'FrisianDutch': 'Indo-European',\n",
       " 'HindiEnglish': 'Indo-European',\n",
       " 'Pomak': 'Indo-European-Baltoslavic',\n",
       " 'TurkishGerman': 'Agglutinating',\n",
       " \"K'iche'\": 'Mayan',\n",
       " 'Romanian': 'Indo-European-Romance',\n",
       " 'Russian': 'Indo-European-Baltoslavic',\n",
       " 'Sanskrit': 'Indo-European',\n",
       " 'Yakut': 'Agglutinating',\n",
       " 'Zaar': 'Afroasiatic',\n",
       " 'Xibe': 'Tungusic',\n",
       " 'Slovak': 'Indo-European-Baltoslavic',\n",
       " 'Slovenian': 'Indo-European-Baltoslavic',\n",
       " 'NorthSami': 'Agglutinating',\n",
       " 'SkoltSami': 'Agglutinating',\n",
       " 'Albanian': 'Indo-European',\n",
       " 'Serbian': 'Indo-European-Baltoslavic',\n",
       " 'Swedish': 'Indo-European-Germanic',\n",
       " 'SwedishSign': 'Indo-European-Germanic',\n",
       " 'Tamil': 'Dravidian',\n",
       " 'Telugu': 'Dravidian',\n",
       " 'Thai': 'Sino-Austronesian',\n",
       " 'Tagalog': 'Sino-Austronesian',\n",
       " 'Tupinambá': 'Tupian',\n",
       " 'Turkish': 'Agglutinating',\n",
       " 'Tatar': 'Agglutinating',\n",
       " 'Uyghur': 'Agglutinating',\n",
       " 'Ukrainian': 'Indo-European-Baltoslavic',\n",
       " 'Urdu': 'Indo-European',\n",
       " 'Vietnamese': 'Sino-Austronesian',\n",
       " 'Wolof': 'Niger-Congo',\n",
       " 'Kangri': 'Indo-European',\n",
       " 'Yoruba': 'Niger-Congo',\n",
       " 'Nhengatu': 'Tupian',\n",
       " 'Cantonese': 'Sino-Austronesian',\n",
       " 'Chinese': 'Sino-Austronesian',\n",
       " 'Guajajára': 'Tupian'}"
      ]
     },
     "execution_count": 85,
     "metadata": {},
     "output_type": "execute_result"
    }
   ],
   "source": [
    "groups = {i['data'][0]['label']: i['label'][0].split(\"/\")[1] for i in flex_data}\n",
    "groups"
   ]
  },
  {
   "cell_type": "code",
   "execution_count": 77,
   "id": "414fa52e-4ea8-42c9-b336-18c00546ac8f",
   "metadata": {},
   "outputs": [
    {
     "name": "stdout",
     "output_type": "stream",
     "text": [
      "Belarusian [Errno 2] No such file or directory: 'surprisals-3-Belarusian.txt'\n",
      "Bulgarian [Errno 2] No such file or directory: 'surprisals-3-Bulgarian.txt'\n",
      "Chinese [Errno 2] No such file or directory: 'surprisals-3-Chinese.txt'\n",
      "Czech [Errno 2] No such file or directory: 'surprisals-3-Czech.txt'\n",
      "Estonian [Errno 2] No such file or directory: 'surprisals-3-Estonian.txt'\n",
      "Finnish [Errno 2] No such file or directory: 'surprisals-3-Finnish.txt'\n",
      "Hebrew [Errno 2] No such file or directory: 'surprisals-3-Hebrew.txt'\n",
      "Icelandic [Errno 2] No such file or directory: 'surprisals-3-Icelandic.txt'\n",
      "Japanese [Errno 2] No such file or directory: 'surprisals-3-Japanese.txt'\n",
      "Latin [Errno 2] No such file or directory: 'surprisals-3-Latin.txt'\n",
      "Norwegian [Errno 2] No such file or directory: 'surprisals-3-Norwegian.txt'\n",
      "Polish [Errno 2] No such file or directory: 'surprisals-3-Polish.txt'\n",
      "Romanian [Errno 2] No such file or directory: 'surprisals-3-Romanian.txt'\n",
      "Sanskrit [Errno 2] No such file or directory: 'surprisals-3-Sanskrit.txt'\n",
      "Slovak [Errno 2] No such file or directory: 'surprisals-3-Slovak.txt'\n",
      "Swedish [Errno 2] No such file or directory: 'surprisals-3-Swedish.txt'\n",
      "Urdu [Errno 2] No such file or directory: 'surprisals-3-Urdu.txt'\n"
     ]
    }
   ],
   "source": [
    "surprisals = {}\n",
    "for k in models.keys():\n",
    "    try:\n",
    "        surprisals[k] = float(open(f'surprisals-3-{k}.txt').read().split()[1])\n",
    "    except Exception as e:\n",
    "        print(k, e)"
   ]
  },
  {
   "cell_type": "code",
   "execution_count": 97,
   "id": "f55231a6-4250-4758-82d5-d77a943a0343",
   "metadata": {},
   "outputs": [
    {
     "name": "stdout",
     "output_type": "stream",
     "text": [
      "Arabic 9.03 4.04563453238125\n",
      "Basque 35.78 11.776336400187533\n",
      "Catalan 13.72 9.052308156371192\n",
      "Croatian 25.8 10.880824251416206\n",
      "Danish 26.22 6.005561456922288\n",
      "Dutch 31.73 8.102134119309605\n",
      "English 13.16 5.385080123613887\n",
      "French 14.09 11.2084986283827\n",
      "German 32.94 9.493257881042421\n",
      "Hindi 1.59 5.446858579018244\n",
      "Indonesian 18.69 9.125195615680122\n",
      "Irish 9.63 9.57934247551619\n",
      "Italian 18.1 6.43303417319251\n",
      "Korean 5.43 6.814609626414776\n",
      "Persian 16.06 6.451482465428169\n",
      "Portuguese 14.15 6.349698236746741\n",
      "Russian 28.79 4.862853204450294\n",
      "Slovenian 27.58 9.071584160015092\n",
      "Spanish 16.61 7.127142944834537\n",
      "Turkish 3.61 10.056914489134401\n"
     ]
    },
    {
     "name": "stderr",
     "output_type": "stream",
     "text": [
      "/var/folders/my/xjpgt3ss01991yghb67xgjs80000gn/T/ipykernel_99497/2910299237.py:26: UserWarning: No artists with labels found to put in legend.  Note that artists whose label start with an underscore are ignored when legend() is called with no argument.\n",
      "  plt.legend()\n"
     ]
    },
    {
     "data": {
      "text/plain": [
       "<matplotlib.legend.Legend at 0x36c039eb0>"
      ]
     },
     "execution_count": 97,
     "metadata": {},
     "output_type": "execute_result"
    },
    {
     "data": {
      "image/png": "[encoded data removed]",
      "text/plain": [
       "<Figure size 640x480 with 1 Axes>"
      ]
     },
     "metadata": {},
     "output_type": "display_data"
    }
   ],
   "source": [
    "color_map = {\n",
    "    'Semitic': 'red',\n",
    "    'isolate': 'blue',\n",
    "    'Indo-European-Romance': 'green',\n",
    "    'Indo-European-Baltoslavic': 'orange',\n",
    "    'Indo-European-Germanic': 'purple',\n",
    "    'Indo-European': 'yellow',\n",
    "    'Sino-Austronesian': 'black',\n",
    "    'Agglutinating': 'gray'\n",
    "}\n",
    "\n",
    "xs = []\n",
    "ys = []\n",
    "cs = []\n",
    "labels = []\n",
    "\n",
    "for k in models.keys():\n",
    "    if k in surprisals and k in flexibility:\n",
    "        xs.append(flexibility[k])\n",
    "        ys.append(surprisals[k])\n",
    "        cs.append(color_map[groups[k]])\n",
    "        labels.append(groups[k])\n",
    "        print(k, xs[-1], ys[-1])\n",
    "\n",
    "plt.scatter(xs, ys, color=cs)#, label=cs)\n",
    "plt.legend()"
   ]
  },
  {
   "cell_type": "code",
   "execution_count": 83,
   "id": "b1eb8ca0-840e-4cd0-bf1b-711dcb36565d",
   "metadata": {},
   "outputs": [
    {
     "data": {
      "text/plain": [
       "LinregressResult(slope=0.06744395534459495, intercept=6.640287723851007, rvalue=0.29979643964875496, pvalue=0.19907746324273742, stderr=0.05058597645888903, intercept_stderr=1.0431591952684278)"
      ]
     },
     "execution_count": 83,
     "metadata": {},
     "output_type": "execute_result"
    }
   ],
   "source": [
    "scipy.stats.linregress(xs, ys)"
   ]
  },
  {
   "cell_type": "code",
   "execution_count": 100,
   "id": "e4991b3b-b6ab-4819-ab84-7995d1e9c864",
   "metadata": {},
   "outputs": [],
   "source": [
    "def graph(flex_file, surp_k):\n",
    "    flex_data = json.load(open(flex_file, \"r\"))\n",
    "    flexibility = {i['data'][0]['label']: i['data'][0]['y'] for i in flex_data}\n",
    "    groups = {i['data'][0]['label']: i['label'][0].split(\"/\")[1] for i in flex_data}\n",
    "    surprisals = {}\n",
    "    for k in models.keys():\n",
    "        try:\n",
    "            surprisals[k] = float(open(f'surprisals-{surp_k}-{k}.txt').read().split()[1])\n",
    "        except Exception as e:\n",
    "            print(k, e)\n",
    "\n",
    "    color_map = {\n",
    "        'Semitic': 'red',\n",
    "        'isolate': 'blue',\n",
    "        'Indo-European-Romance': 'green',\n",
    "        'Indo-European-Baltoslavic': 'orange',\n",
    "        'Indo-European-Germanic': 'purple',\n",
    "        'Indo-European': 'yellow',\n",
    "        'Sino-Austronesian': 'black',\n",
    "        'Agglutinating': 'gray'\n",
    "    }\n",
    "    \n",
    "    xs = []\n",
    "    ys = []\n",
    "    cs = []\n",
    "    labels = []\n",
    "    \n",
    "    for k in models.keys():\n",
    "        if k in surprisals and k in flexibility:\n",
    "            xs.append(flexibility[k])\n",
    "            ys.append(surprisals[k])\n",
    "            cs.append(color_map[groups[k]])\n",
    "            labels.append(groups[k])\n",
    "            print(k, xs[-1], ys[-1])\n",
    "    \n",
    "    plt.scatter(xs, ys, color=cs)#, label=cs)\n",
    "    plt.legend()\n",
    "\n",
    "    return scipy.stats.linregress(xs, ys)"
   ]
  },
  {
   "cell_type": "code",
   "execution_count": 106,
   "id": "f05322b9-3386-490a-b8ca-a4e6446f09db",
   "metadata": {},
   "outputs": [
    {
     "name": "stdout",
     "output_type": "stream",
     "text": [
      "Belarusian [Errno 2] No such file or directory: 'surprisals-3-Belarusian.txt'\n",
      "Bulgarian [Errno 2] No such file or directory: 'surprisals-3-Bulgarian.txt'\n",
      "Chinese [Errno 2] No such file or directory: 'surprisals-3-Chinese.txt'\n",
      "Czech [Errno 2] No such file or directory: 'surprisals-3-Czech.txt'\n",
      "Estonian [Errno 2] No such file or directory: 'surprisals-3-Estonian.txt'\n",
      "Finnish [Errno 2] No such file or directory: 'surprisals-3-Finnish.txt'\n",
      "Hebrew [Errno 2] No such file or directory: 'surprisals-3-Hebrew.txt'\n",
      "Icelandic [Errno 2] No such file or directory: 'surprisals-3-Icelandic.txt'\n",
      "Japanese [Errno 2] No such file or directory: 'surprisals-3-Japanese.txt'\n",
      "Latin [Errno 2] No such file or directory: 'surprisals-3-Latin.txt'\n",
      "Norwegian [Errno 2] No such file or directory: 'surprisals-3-Norwegian.txt'\n",
      "Polish [Errno 2] No such file or directory: 'surprisals-3-Polish.txt'\n",
      "Romanian [Errno 2] No such file or directory: 'surprisals-3-Romanian.txt'\n",
      "Sanskrit [Errno 2] No such file or directory: 'surprisals-3-Sanskrit.txt'\n",
      "Slovak [Errno 2] No such file or directory: 'surprisals-3-Slovak.txt'\n",
      "Swedish [Errno 2] No such file or directory: 'surprisals-3-Swedish.txt'\n",
      "Urdu [Errno 2] No such file or directory: 'surprisals-3-Urdu.txt'\n",
      "Arabic 9.03 4.04563453238125\n",
      "Basque 35.78 11.776336400187533\n",
      "Catalan 13.72 9.052308156371192\n",
      "Croatian 25.8 10.880824251416206\n",
      "Danish 26.22 6.005561456922288\n",
      "Dutch 31.73 8.102134119309605\n",
      "English 13.16 5.385080123613887\n",
      "French 14.09 11.2084986283827\n",
      "German 32.94 9.493257881042421\n",
      "Hindi 1.59 5.446858579018244\n",
      "Indonesian 18.69 9.125195615680122\n",
      "Irish 9.63 9.57934247551619\n",
      "Italian 18.1 6.43303417319251\n",
      "Korean 5.43 6.814609626414776\n",
      "Persian 16.06 6.451482465428169\n",
      "Portuguese 14.15 6.349698236746741\n",
      "Russian 28.79 4.862853204450294\n",
      "Slovenian 27.58 9.071584160015092\n",
      "Spanish 16.61 7.127142944834537\n",
      "Turkish 3.61 10.056914489134401\n"
     ]
    },
    {
     "name": "stderr",
     "output_type": "stream",
     "text": [
      "/var/folders/my/xjpgt3ss01991yghb67xgjs80000gn/T/ipykernel_99497/3310615844.py:37: UserWarning: No artists with labels found to put in legend.  Note that artists whose label start with an underscore are ignored when legend() is called with no argument.\n",
      "  plt.legend()\n"
     ]
    },
    {
     "data": {
      "text/plain": [
       "LinregressResult(slope=0.06744395534459495, intercept=6.640287723851007, rvalue=0.29979643964875496, pvalue=0.19907746324273742, stderr=0.05058597645888903, intercept_stderr=1.0431591952684278)"
      ]
     },
     "execution_count": 106,
     "metadata": {},
     "output_type": "execute_result"
    },
    {
     "data": {
      "image/png": "[encoded data removed]",
      "text/plain": [
       "<Figure size 640x480 with 1 Axes>"
      ]
     },
     "metadata": {},
     "output_type": "display_data"
    }
   ],
   "source": [
    "graph(\"flexibility_ any.json\", 3)"
   ]
  }
 ],
 "metadata": {
  "kernelspec": {
   "display_name": "Python 3 (ipykernel)",
   "language": "python",
   "name": "python3"
  },
  "language_info": {
   "codemirror_mode": {
    "name": "ipython",
    "version": 3
   },
   "file_extension": ".py",
   "mimetype": "text/x-python",
   "name": "python",
   "nbconvert_exporter": "python",
   "pygments_lexer": "ipython3",
   "version": "3.12.0"
  }
 },
 "nbformat": 4,
 "nbformat_minor": 5
}
